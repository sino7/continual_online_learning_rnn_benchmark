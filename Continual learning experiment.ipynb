{
 "cells": [
  {
   "cell_type": "markdown",
   "id": "4e04e321",
   "metadata": {},
   "source": [
    "Work in progress...\n",
    "\n",
    "# Continual learning of sequence patterns with online learning algorithms\n",
    "\n",
    "In this notebook, we show how to perform the continual training of a RNN model on a sequence generation task. We also provide the code for the hyperparameter optimization for those models."
   ]
  },
  {
   "cell_type": "markdown",
   "id": "835ab35d",
   "metadata": {},
   "source": [
    "## Data set"
   ]
  },
  {
   "cell_type": "markdown",
   "id": "18d4605c",
   "metadata": {},
   "source": [
    "## Models"
   ]
  },
  {
   "cell_type": "markdown",
   "id": "837eaa96",
   "metadata": {},
   "source": [
    "## Hyperparameter optimization on one model"
   ]
  },
  {
   "cell_type": "markdown",
   "id": "85770cfd",
   "metadata": {},
   "source": [
    "## Evaluation of the obtained hyperparameters"
   ]
  },
  {
   "cell_type": "code",
   "execution_count": null,
   "id": "ce764514",
   "metadata": {},
   "outputs": [],
   "source": []
  }
 ],
 "metadata": {
  "kernelspec": {
   "display_name": "Python 3",
   "language": "python",
   "name": "python3"
  },
  "language_info": {
   "codemirror_mode": {
    "name": "ipython",
    "version": 3
   },
   "file_extension": ".py",
   "mimetype": "text/x-python",
   "name": "python",
   "nbconvert_exporter": "python",
   "pygments_lexer": "ipython3",
   "version": "3.8.8"
  }
 },
 "nbformat": 4,
 "nbformat_minor": 5
}
